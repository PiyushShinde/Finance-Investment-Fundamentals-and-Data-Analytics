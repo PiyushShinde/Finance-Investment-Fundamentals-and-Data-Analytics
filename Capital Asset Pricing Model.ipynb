{
 "cells": [
  {
   "cell_type": "markdown",
   "metadata": {},
   "source": [
    "<h1 id=\"tocheading\">Table of Contents</h1>\n",
    "<div id=\"toc\"></div>\n",
    "\n",
    "## Using Capital Asset Pricing Model:\n",
    "* [To calculate $\\beta$ of a stock](#first-bullet)\n",
    "* [To calculate expected return of a stock](#second-bullet)\n",
    "* [To calculate the Sharpe ratio](#third-bullet)"
   ]
  },
  {
   "cell_type": "code",
   "execution_count": 1,
   "metadata": {
    "collapsed": false
   },
   "outputs": [],
   "source": [
    "import numpy as np\n",
    "import pandas as pd\n",
    "from pandas_datareader import data as wb"
   ]
  },
  {
   "cell_type": "markdown",
   "metadata": {},
   "source": [
    "## Calculate $\\beta$ of a stock <a class=\"anchor\" id=\"first-bullet\"></a>\n",
    "\n",
    "The $\\beta$ of a stock shows the extent to which the change in the price of a stock is related to the overall performance of the market.\n",
    "\n",
    "### $$ \n",
    "\\beta_{stock} = \\frac{\\sigma_{stock,market}}{\\sigma_{market}}\n",
    "$$\n",
    "\n",
    "Here, we will analyse the stock P&G relative to the market S&P 500."
   ]
  },
  {
   "cell_type": "code",
   "execution_count": 2,
   "metadata": {
    "collapsed": true
   },
   "outputs": [],
   "source": [
    "# data = pd.DataFrame()\n",
    "# tickers = ['PG','^GSPC']\n",
    "\n",
    "# for t in tickers:\n",
    "#     data[t] = wb.DataReader(t, 'google', start = '2012-1-1', end = '2016-12-31')['Close']\n",
    "    \n",
    "# data.head()\n",
    "\n",
    "data = pd.read_csv('CAPM_data.csv', index_col = 'Date')  "
   ]
  },
  {
   "cell_type": "markdown",
   "metadata": {},
   "source": [
    "To calculate $\\beta$ we need two values - <br > \n",
    "* Covariance between P&G and S&P 500 <br >\n",
    "* Variance of S&P 500"
   ]
  },
  {
   "cell_type": "code",
   "execution_count": 3,
   "metadata": {
    "collapsed": false
   },
   "outputs": [
    {
     "data": {
      "text/html": [
       "<div>\n",
       "<table border=\"1\" class=\"dataframe\">\n",
       "  <thead>\n",
       "    <tr style=\"text-align: right;\">\n",
       "      <th></th>\n",
       "      <th>PG</th>\n",
       "      <th>^GSPC</th>\n",
       "    </tr>\n",
       "    <tr>\n",
       "      <th>Date</th>\n",
       "      <th></th>\n",
       "      <th></th>\n",
       "    </tr>\n",
       "  </thead>\n",
       "  <tbody>\n",
       "    <tr>\n",
       "      <th>2012-01-03</th>\n",
       "      <td>NaN</td>\n",
       "      <td>NaN</td>\n",
       "    </tr>\n",
       "    <tr>\n",
       "      <th>2012-01-04</th>\n",
       "      <td>-0.000449</td>\n",
       "      <td>0.000188</td>\n",
       "    </tr>\n",
       "    <tr>\n",
       "      <th>2012-01-05</th>\n",
       "      <td>-0.004201</td>\n",
       "      <td>0.002939</td>\n",
       "    </tr>\n",
       "    <tr>\n",
       "      <th>2012-01-06</th>\n",
       "      <td>-0.002408</td>\n",
       "      <td>-0.002540</td>\n",
       "    </tr>\n",
       "    <tr>\n",
       "      <th>2012-01-09</th>\n",
       "      <td>0.004211</td>\n",
       "      <td>0.002259</td>\n",
       "    </tr>\n",
       "  </tbody>\n",
       "</table>\n",
       "</div>"
      ],
      "text/plain": [
       "                  PG     ^GSPC\n",
       "Date                          \n",
       "2012-01-03       NaN       NaN\n",
       "2012-01-04 -0.000449  0.000188\n",
       "2012-01-05 -0.004201  0.002939\n",
       "2012-01-06 -0.002408 -0.002540\n",
       "2012-01-09  0.004211  0.002259"
      ]
     },
     "execution_count": 3,
     "metadata": {},
     "output_type": "execute_result"
    }
   ],
   "source": [
    "sec_returns = np.log( data / data.shift(1) )\n",
    "sec_returns.head()"
   ]
  },
  {
   "cell_type": "code",
   "execution_count": 4,
   "metadata": {
    "collapsed": false,
    "scrolled": true
   },
   "outputs": [
    {
     "data": {
      "text/html": [
       "<div>\n",
       "<table border=\"1\" class=\"dataframe\">\n",
       "  <thead>\n",
       "    <tr style=\"text-align: right;\">\n",
       "      <th></th>\n",
       "      <th>PG</th>\n",
       "      <th>^GSPC</th>\n",
       "    </tr>\n",
       "  </thead>\n",
       "  <tbody>\n",
       "    <tr>\n",
       "      <th>PG</th>\n",
       "      <td>0.020843</td>\n",
       "      <td>0.010025</td>\n",
       "    </tr>\n",
       "    <tr>\n",
       "      <th>^GSPC</th>\n",
       "      <td>0.010025</td>\n",
       "      <td>0.016361</td>\n",
       "    </tr>\n",
       "  </tbody>\n",
       "</table>\n",
       "</div>"
      ],
      "text/plain": [
       "             PG     ^GSPC\n",
       "PG     0.020843  0.010025\n",
       "^GSPC  0.010025  0.016361"
      ]
     },
     "execution_count": 4,
     "metadata": {},
     "output_type": "execute_result"
    }
   ],
   "source": [
    "cov = sec_returns.cov() * 250\n",
    "cov"
   ]
  },
  {
   "cell_type": "code",
   "execution_count": 5,
   "metadata": {
    "collapsed": false
   },
   "outputs": [
    {
     "data": {
      "text/plain": [
       "0.010025480950656808"
      ]
     },
     "execution_count": 5,
     "metadata": {},
     "output_type": "execute_result"
    }
   ],
   "source": [
    "#Covariance between P&G and the market\n",
    "cov_with_market = cov.iloc[0,1]\n",
    "cov_with_market"
   ]
  },
  {
   "cell_type": "code",
   "execution_count": 6,
   "metadata": {
    "collapsed": false,
    "scrolled": true
   },
   "outputs": [
    {
     "data": {
      "text/plain": [
       "0.016360592699269063"
      ]
     },
     "execution_count": 6,
     "metadata": {},
     "output_type": "execute_result"
    }
   ],
   "source": [
    "#Annualized Variance of S&P 500\n",
    "market_var = sec_returns['^GSPC'].var() * 250\n",
    "market_var"
   ]
  },
  {
   "cell_type": "code",
   "execution_count": 7,
   "metadata": {
    "collapsed": false
   },
   "outputs": [
    {
     "data": {
      "text/plain": [
       "0.61278225886674098"
      ]
     },
     "execution_count": 7,
     "metadata": {},
     "output_type": "execute_result"
    }
   ],
   "source": [
    "beta = cov_with_market / market_var\n",
    "beta"
   ]
  },
  {
   "cell_type": "markdown",
   "metadata": {},
   "source": [
    "#### The value of $\\beta$ lies between 0 and 1. This means P&G is a defensive stock. This means the market volatility does not affect the P&G prices extensively. To validate our calculated value of $\\beta$ for P&G, the quoted $\\beta$ coefficient found by searching 'PG' in Google Finance website is 0.62."
   ]
  },
  {
   "cell_type": "markdown",
   "metadata": {},
   "source": [
    "------------------------------------------------------"
   ]
  },
  {
   "cell_type": "markdown",
   "metadata": {},
   "source": [
    "## Calculate expected return of a stock <a class=\"anchor\" id=\"second-bullet\"></a>\n",
    "\n",
    "The expected return of the stock will be equal to the sum of the risk-free rate and the product of the $\\beta$ and the market risk premium. \n",
    "\n",
    "### $$\n",
    "r_{stock} = r_f + \\beta_{stock}(r_{market} - r_f) \n",
    "$$\n",
    "\n",
    "$\\rightarrow r_f$ = risk-free rate"
   ]
  },
  {
   "cell_type": "code",
   "execution_count": 8,
   "metadata": {
    "collapsed": false
   },
   "outputs": [
    {
     "data": {
      "text/plain": [
       "0.058090241978804011"
      ]
     },
     "execution_count": 8,
     "metadata": {},
     "output_type": "execute_result"
    }
   ],
   "source": [
    "#The market risk premium for S&P 500 is 5.4%\n",
    "#Risk free rate = 2.5% (corresponding to the yield of a 10 year government bond as shown in Bloomberg)\n",
    "er = 0.025 + beta * 0.054\n",
    "er"
   ]
  },
  {
   "cell_type": "markdown",
   "metadata": {},
   "source": [
    "------------------------------------------------------"
   ]
  },
  {
   "cell_type": "markdown",
   "metadata": {},
   "source": [
    "## Calculate the Sharpe ratio <a class=\"anchor\" id=\"third-bullet\"></a>\n",
    "\n",
    "The Shapre ratio is the ratio of the excess expected return of the stock to the volatility of the stock. So the ratio is directly propotional to the expected return and inversely propotional to the risk of the stock. It is used to compare between stocks and portfolios to decide which is preferable in terms of risk and return. \n",
    "\n",
    "### $$\n",
    "Sharpe = \\frac{\\overline{r_{stock}} - r_f}{\\sigma_{stock}}\n",
    "$$"
   ]
  },
  {
   "cell_type": "code",
   "execution_count": 9,
   "metadata": {
    "collapsed": false
   },
   "outputs": [
    {
     "data": {
      "text/plain": [
       "0.22920428814607627"
      ]
     },
     "execution_count": 9,
     "metadata": {},
     "output_type": "execute_result"
    }
   ],
   "source": [
    "Sharpe = (er - 0.025) / (sec_returns['PG'].std() * 250 ** 0.5)\n",
    "Sharpe"
   ]
  }
 ],
 "metadata": {
  "anaconda-cloud": {},
  "kernelspec": {
   "display_name": "Python 3",
   "language": "python",
   "name": "python3"
  },
  "language_info": {
   "codemirror_mode": {
    "name": "ipython",
    "version": 3
   },
   "file_extension": ".py",
   "mimetype": "text/x-python",
   "name": "python",
   "nbconvert_exporter": "python",
   "pygments_lexer": "ipython3",
   "version": "3.6.0"
  }
 },
 "nbformat": 4,
 "nbformat_minor": 1
}
